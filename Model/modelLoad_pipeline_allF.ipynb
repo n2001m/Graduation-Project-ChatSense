{
 "cells": [
  {
   "cell_type": "code",
   "execution_count": 1,
   "id": "494358ad",
   "metadata": {},
   "outputs": [],
   "source": [
    "import librosa\n",
    "import numpy as np\n",
    "import joblib\n",
    "import pandas as pd\n",
    "import warnings\n",
    "warnings.filterwarnings(\"ignore\")\n",
    "\n"
   ]
  },
  {
   "cell_type": "code",
   "execution_count": 2,
   "id": "6c572da7",
   "metadata": {},
   "outputs": [],
   "source": [
    "loaded_svm_model = joblib.load(\"svm_model_3sec_allF.pkl\")\n",
    "loaded_scaler = joblib.load(\"scaler_3sec_allF.pkl\")"
   ]
  },
  {
   "cell_type": "code",
   "execution_count": 3,
   "id": "92e995fd",
   "metadata": {},
   "outputs": [],
   "source": [
    "\n",
    "# Function to preprocess audio\n",
    "def preprocess_audio(audio_path, target_sr=16000):\n",
    "    # Load audio file\n",
    "    data, original_sr = librosa.load(audio_path, sr=target_sr)\n",
    "    \n",
    "    # Trim silence\n",
    "    trimmed_data, _ = librosa.effects.trim(data)\n",
    "    \n",
    "    # Apply noise reduction using spectral subtraction\n",
    "    stft = librosa.stft(trimmed_data)\n",
    "    noise_estimation = np.mean(np.abs(stft), axis=1)\n",
    "    clean_stft = np.maximum(np.abs(stft) - 2 * noise_estimation[:, np.newaxis], 0.0)\n",
    "    clean_data = librosa.istft(clean_stft)\n",
    "    \n",
    "    return clean_data\n",
    "# Function to segment audio with overlap\n",
    "def segment_audio(audio, segment_size=3, overlap=0.5):\n",
    "    segment_size_samples = int(segment_size * 16000)  # Convert segment size to samples\n",
    "    hop_length = int(segment_size_samples * (1 - overlap))  # Calculate hop length\n",
    "    if len(audio) <= segment_size_samples:\n",
    "        segments = [audio]\n",
    "    else:\n",
    "        segments = []\n",
    "        for i in range(0, len(audio) - segment_size_samples + 1, hop_length):\n",
    "            segment = audio[i:i + segment_size_samples]\n",
    "            segments.append(segment)\n",
    "    return segments\n",
    "\n",
    "# Function to extract features\n",
    "def extract_features(audio):\n",
    "    sampling_rate=16000\n",
    "    mfcc = librosa.feature.mfcc(y=audio, sr=sampling_rate)\n",
    "    mfcc_mean = np.mean(mfcc, axis=1)\n",
    "    speech_rate = librosa.feature.spectral_centroid(y=audio, sr=sampling_rate)\n",
    "    speech_rate_mean = np.mean(speech_rate)\n",
    "    energy = librosa.feature.rms(y=audio)\n",
    "    energy_mean = np.mean(energy)\n",
    "    pitch = librosa.yin(y=audio, fmin=8, fmax=600)\n",
    "    pitch_mean = np.mean(pitch)\n",
    "    zcr = librosa.feature.zero_crossing_rate(audio)\n",
    "    zcr_mean = np.mean(zcr)\n",
    "    mel_spec = librosa.feature.melspectrogram(y=audio, sr=sampling_rate)\n",
    "    kurtosis = librosa.feature.mfcc(S=librosa.power_to_db(mel_spec))\n",
    "    kurtosis_mean = np.mean(kurtosis)\n",
    "    return np.concatenate([mfcc_mean, [speech_rate_mean, energy_mean, pitch_mean, zcr_mean, kurtosis_mean]])\n",
    "\n",
    "# Function to load the SVM model and the StandardScaler objects\n",
    "def load_model_and_scaler(model_filename, scaler_filename):\n",
    "    loaded_svm_model = joblib.load(model_filename)\n",
    "    loaded_scaler = joblib.load(scaler_filename)\n",
    "    return loaded_svm_model, loaded_scaler\n",
    "\n",
    "# Function to predict emotion label for each segment\n",
    "def predict_emotion_segments(segments, loaded_svm_model, loaded_scaler):\n",
    "    predicted_labels = []\n",
    "    for segment in segments:\n",
    "        segment_features = extract_features(segment)\n",
    "        standardized_features = loaded_scaler.transform(segment_features.reshape(1, -1))\n",
    "        predicted_label = loaded_svm_model.predict(standardized_features)\n",
    "        predicted_labels.append(predicted_label)\n",
    "    return predicted_labels\n"
   ]
  },
  {
   "cell_type": "code",
   "execution_count": 4,
   "id": "c2cb4c0a",
   "metadata": {},
   "outputs": [],
   "source": [
    "def process_audio_and_predict(audio_path, model_filename, scaler_filename):\n",
    "    preprocessed_audio = preprocess_audio(audio_path)\n",
    "    audio_segments = segment_audio_with_overlap(preprocessed_audio)\n",
    "    loaded_svm_model, loaded_scaler = load_model_and_scaler(model_filename, scaler_filename)\n",
    "    predicted_labels = predict_emotion_segments(audio_segments, loaded_svm_model, loaded_scaler)\n",
    "    return predicted_labels\n"
   ]
  },
  {
   "cell_type": "code",
   "execution_count": 6,
   "id": "084ea0e4",
   "metadata": {},
   "outputs": [
    {
     "name": "stdout",
     "output_type": "stream",
     "text": [
      "Segmented audio into 9 segments\n",
      "Predicted labels for segments: ['fear', 'fear', 'fear', 'fear', 'fear', 'fear', 'fear', 'neutral', 'fear']\n"
     ]
    }
   ],
   "source": [
    "# Example usage:\n",
    "audio_file = \"/Users/narjesmishal/Desktop/1714230645511flutter_sound.mp4\"\n",
    "preprocessed_audio = preprocess_audio(audio_file)\n",
    "\n",
    "# Check if the audio duration is less than 3 seconds\n",
    "if len(preprocessed_audio) / 16000 < 3:\n",
    "    # If less than 3 seconds, directly extract features and predict label\n",
    "    audio_features = extract_features(preprocessed_audio)\n",
    "    standardized_features = loaded_scaler.transform(audio_features.reshape(1, -1))\n",
    "    predicted_label = loaded_svm_model.predict(standardized_features)\n",
    "    print(\"Predicted label:\", predicted_label)\n",
    "else:\n",
    "    # If greater than or equal to 3 seconds, segment the audio\n",
    "    segments = segment_audio(preprocessed_audio)\n",
    "    print(\"Segmented audio into\", len(segments), \"segments\")\n",
    "\n",
    "    # Predict emotion label for each segment\n",
    "    predicted_labels = predict_emotion_segments(segments, loaded_svm_model, loaded_scaler)\n",
    "    predicted_labels = [label[0] for label in predicted_labels]\n",
    "    print(\"Predicted labels for segments:\", predicted_labels)\n"
   ]
  },
  {
   "cell_type": "code",
   "execution_count": null,
   "id": "1a3c18c4",
   "metadata": {},
   "outputs": [],
   "source": []
  }
 ],
 "metadata": {
  "kernelspec": {
   "display_name": "Python 3 (ipykernel)",
   "language": "python",
   "name": "python3"
  },
  "language_info": {
   "codemirror_mode": {
    "name": "ipython",
    "version": 3
   },
   "file_extension": ".py",
   "mimetype": "text/x-python",
   "name": "python",
   "nbconvert_exporter": "python",
   "pygments_lexer": "ipython3",
   "version": "3.11.5"
  }
 },
 "nbformat": 4,
 "nbformat_minor": 5
}
